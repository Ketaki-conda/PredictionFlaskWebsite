{
 "cells": [
  {
   "cell_type": "code",
   "execution_count": 1,
   "metadata": {},
   "outputs": [],
   "source": [
    "import tensorflow as tf"
   ]
  },
  {
   "cell_type": "code",
   "execution_count": 2,
   "metadata": {},
   "outputs": [],
   "source": [
    "import cv2"
   ]
  },
  {
   "cell_type": "code",
   "execution_count": 3,
   "metadata": {},
   "outputs": [],
   "source": [
    "import matplotlib.pyplot as plt"
   ]
  },
  {
   "cell_type": "code",
   "execution_count": 4,
   "metadata": {},
   "outputs": [],
   "source": [
    "import random"
   ]
  },
  {
   "cell_type": "code",
   "execution_count": 5,
   "metadata": {},
   "outputs": [],
   "source": [
    "data_location = 'Dataset\\words'"
   ]
  },
  {
   "cell_type": "code",
   "execution_count": 6,
   "metadata": {},
   "outputs": [],
   "source": [
    "def get_paths_and_gts(partition_split_file):\n",
    "    paths_and_gts = []\n",
    "    with open(partition_split_file) as f:\n",
    "        for line in f:\n",
    "            if not line or line.startswith('#'):\n",
    "                continue\n",
    "            line_split = line.strip().split(' ')\n",
    "            directory_split = line_split[0].split('-')\n",
    "            image_location = f'{data_location}/{directory_split[0]}/{directory_split[0]}-{directory_split[1]}/{line_split[0]}.png'\n",
    "            gt_text = ' '.join(line_split[8:])\n",
    "            paths_and_gts.append([image_location, gt_text])\n",
    "    \n",
    "    return paths_and_gts"
   ]
  },
  {
   "cell_type": "code",
   "execution_count": 7,
   "metadata": {},
   "outputs": [],
   "source": [
    "def add_padding(img, old_w, old_h, new_w, new_h):\n",
    "    h1, h2 = int((new_h - old_h) / 2), int((new_h - old_h) / 2) + old_h\n",
    "    w1, w2 = int((new_w - old_w) / 2), int((new_w - old_w) / 2) + old_w\n",
    "    img_pad = np.ones([new_h, new_w, 3]) * 255\n",
    "    img_pad[h1:h2, w1:w2, :] = img\n",
    "    return img_pad\n",
    "\n",
    "\n",
    "def fix_size(img, target_w, target_h):\n",
    "    h, w = img.shape[:2]\n",
    "    if w < target_w and h < target_h:\n",
    "        img = add_padding(img, w, h, target_w, target_h)\n",
    "    elif w >= target_w and h < target_h:\n",
    "        new_w = target_w\n",
    "        new_h = int(h * new_w / w)\n",
    "        new_img = cv2.resize(img, (new_w, new_h), interpolation=cv2.INTER_AREA)\n",
    "        img = add_padding(new_img, new_w, new_h, target_w, target_h)\n",
    "    elif w < target_w and h >= target_h:\n",
    "        new_h = target_h\n",
    "        new_w = int(w * new_h / h)\n",
    "        new_img = cv2.resize(img, (new_w, new_h), interpolation=cv2.INTER_AREA)\n",
    "        img = add_padding(new_img, new_w, new_h, target_w, target_h)\n",
    "    else:\n",
    "        \"\"\"w>=target_w and h>=target_h \"\"\"\n",
    "        ratio = max(w / target_w, h / target_h)\n",
    "        new_w = max(min(target_w, int(w / ratio)), 1)\n",
    "        new_h = max(min(target_h, int(h / ratio)), 1)\n",
    "        new_img = cv2.resize(img, (new_w, new_h), interpolation=cv2.INTER_AREA)\n",
    "        img = add_padding(new_img, new_w, new_h, target_w, target_h)\n",
    "    return img\n",
    "\n",
    "\n",
    "\n",
    "def preprocess(path, img_w, img_h):\n",
    "    \"\"\" Pre-processing image for predicting \"\"\"\n",
    "    img = cv2.imread(path)\n",
    "    img = fix_size(img, img_w, img_h)\n",
    "\n",
    "    img = np.clip(img, 0, 255)\n",
    "    img = np.uint8(img)\n",
    "    img = cv2.cvtColor(img, cv2.COLOR_BGR2GRAY)\n",
    "\n",
    "    img = img.astype(np.float32)\n",
    "    img /= 255\n",
    "    return img"
   ]
  },
  {
   "cell_type": "code",
   "execution_count": 8,
   "metadata": {},
   "outputs": [
    {
     "name": "stdout",
     "output_type": "stream",
     "text": [
      "80\n"
     ]
    }
   ],
   "source": [
    "letters = [' ', '!', '\"', '#', '&', \"'\", '(', ')', '*', '+', ',', '-', '.', '/',\n",
    "           '0', '1', '2', '3', '4', '5', '6', '7', '8', '9', ':', ';', '?',\n",
    "           'A', 'B', 'C', 'D', 'E', 'F', 'G', 'H', 'I', 'J', 'K', 'L', 'M',\n",
    "           'N', 'O', 'P', 'Q', 'R', 'S', 'T', 'U', 'V', 'W', 'X', 'Y', 'Z',\n",
    "           'a', 'b', 'c', 'd', 'e', 'f', 'g', 'h', 'i', 'j', 'k', 'l', 'm',\n",
    "           'n', 'o', 'p', 'q', 'r', 's', 't', 'u', 'v', 'w', 'x', 'y', 'z']\n",
    "\n",
    "num_classes = len(letters) + 1\n",
    "print(num_classes)"
   ]
  },
  {
   "cell_type": "code",
   "execution_count": 9,
   "metadata": {},
   "outputs": [],
   "source": [
    "def text_to_labels(text):\n",
    "    return list(map(lambda x: letters.index(x), text))\n",
    "\n",
    "def labels_to_text(labels):\n",
    "    return ''.join(list(map(lambda x: letters[int(x)], labels)))"
   ]
  },
  {
   "cell_type": "code",
   "execution_count": 10,
   "metadata": {},
   "outputs": [
    {
     "data": {
      "text/plain": [
       "(87292, 4316, 4316)"
      ]
     },
     "execution_count": 10,
     "metadata": {},
     "output_type": "execute_result"
    }
   ],
   "source": [
    "train_files = get_paths_and_gts('Dataset/train_files.txt')\n",
    "valid_files = get_paths_and_gts('Dataset/valid_files.txt')\n",
    "test_files = get_paths_and_gts('Dataset/test_files.txt')\n",
    "len(train_files), len(valid_files), len(test_files)"
   ]
  },
  {
   "cell_type": "code",
   "execution_count": 11,
   "metadata": {},
   "outputs": [
    {
     "name": "stdout",
     "output_type": "stream",
     "text": [
      "4576\n"
     ]
    }
   ],
   "source": [
    "for index, (img_loc, gt_text) in enumerate(train_files):\n",
    "    if 'r06-022-03-05' in img_loc:\n",
    "        print(index)\n",
    "    else:\n",
    "        continue"
   ]
  },
  {
   "cell_type": "code",
   "execution_count": 12,
   "metadata": {},
   "outputs": [
    {
     "data": {
      "text/plain": [
       "['Dataset\\\\words/r06/r06-022/r06-022-03-05.png', 'more']"
      ]
     },
     "execution_count": 12,
     "metadata": {},
     "output_type": "execute_result"
    }
   ],
   "source": [
    "train_files[4576]"
   ]
  },
  {
   "cell_type": "code",
   "execution_count": 13,
   "metadata": {},
   "outputs": [
    {
     "name": "stdout",
     "output_type": "stream",
     "text": [
      "['Dataset\\\\words/g06/g06-042e/g06-042e-05-03.png', 'notice']\n"
     ]
    }
   ],
   "source": [
    "del train_files[4576]\n",
    "print(train_files[4576])"
   ]
  },
  {
   "cell_type": "code",
   "execution_count": 14,
   "metadata": {},
   "outputs": [
    {
     "name": "stdout",
     "output_type": "stream",
     "text": [
      "CITIZENS\n"
     ]
    },
    {
     "data": {
      "text/plain": [
       "<matplotlib.image.AxesImage at 0x178dffecfa0>"
      ]
     },
     "execution_count": 14,
     "metadata": {},
     "output_type": "execute_result"
    },
    {
     "data": {
      "image/png": "[encoded data removed]",
      "text/plain": [
       "<Figure size 432x288 with 1 Axes>"
      ]
     },
     "metadata": {
      "needs_background": "light"
     },
     "output_type": "display_data"
    }
   ],
   "source": [
    "import numpy as np\n",
    "i = 21\n",
    "print(train_files[i][1])\n",
    "an_img = preprocess(path=train_files[i][0], img_w=128, img_h=64)\n",
    "plt.imshow(an_img.T)"
   ]
  },
  {
   "cell_type": "code",
   "execution_count": 15,
   "metadata": {},
   "outputs": [],
   "source": [
    "class TextImageGenerator:\n",
    "    \n",
    "    def __init__(self, data,\n",
    "                 img_w,\n",
    "                 img_h, \n",
    "                 batch_size, \n",
    "                 i_len,\n",
    "                 max_text_len):\n",
    "        \n",
    "        self.img_h = img_h\n",
    "        self.img_w = img_w\n",
    "        self.batch_size = batch_size\n",
    "        self.max_text_len = max_text_len\n",
    "        self.samples = data\n",
    "        self.n = len(self.samples)\n",
    "        self.i_len = i_len\n",
    "        self.indexes = list(range(self.n))\n",
    "        self.cur_index = 0\n",
    "        \n",
    "    def build_data(self):\n",
    "        self.imgs = np.zeros((self.n, self.img_h, self.img_w))\n",
    "        self.texts = []\n",
    "        for i, (img_filepath, text) in enumerate(self.samples):\n",
    "            img = preprocess(img_filepath, self.img_w, self.img_h)\n",
    "            self.imgs[i, :, :] = img\n",
    "            self.texts.append(text)\n",
    "    \n",
    "    def next_sample(self):\n",
    "        self.cur_index += 1\n",
    "        if self.cur_index >= self.n:\n",
    "            self.cur_index = 0\n",
    "            random.shuffle(self.indexes)\n",
    "        return self.imgs[self.indexes[self.cur_index]], self.texts[self.indexes[self.cur_index]]\n",
    "    \n",
    "    def next_batch(self):\n",
    "        while True:\n",
    "            # width and height are backwards from typical Keras convention\n",
    "            # because width is the time dimension when it gets fed into the RNN\n",
    "            X_data = np.ones([self.batch_size, self.img_w, self.img_h, 1])\n",
    "            Y_data = np.zeros([self.batch_size, self.max_text_len])\n",
    "            input_length = np.ones((self.batch_size, 1)) * self.i_len\n",
    "            label_length = np.zeros((self.batch_size, 1))\n",
    "                                   \n",
    "            for i in range(self.batch_size):\n",
    "                img, text = self.next_sample()\n",
    "                img = img.T\n",
    "                img = np.expand_dims(img, -1)\n",
    "                X_data[i] = img\n",
    "                Y_data[i, :len(text)] = text_to_labels(text)\n",
    "                label_length[i] = len(text)\n",
    "                \n",
    "            inputs = [X_data, Y_data, input_length, label_length]\n",
    "            outputs = np.zeros([self.batch_size])\n",
    "            yield (inputs, outputs)"
   ]
  },
  {
   "cell_type": "code",
   "execution_count": 16,
   "metadata": {},
   "outputs": [],
   "source": [
    "batch_size = 64\n",
    "input_length = 30\n",
    "max_text_len = 16\n",
    "img_w = 128\n",
    "img_h = 64"
   ]
  },
  {
   "cell_type": "code",
   "execution_count": 17,
   "metadata": {},
   "outputs": [],
   "source": [
    "train_data = TextImageGenerator(train_files, img_w, img_h, batch_size, input_length, max_text_len)\n",
    "train_data.build_data()"
   ]
  },
  {
   "cell_type": "code",
   "execution_count": 18,
   "metadata": {},
   "outputs": [
    {
     "data": {
      "text/plain": [
       "(87291, 64, 128)"
      ]
     },
     "execution_count": 18,
     "metadata": {},
     "output_type": "execute_result"
    }
   ],
   "source": [
    "train_data.imgs.shape"
   ]
  },
  {
   "cell_type": "code",
   "execution_count": 19,
   "metadata": {},
   "outputs": [],
   "source": [
    "validation_data = TextImageGenerator(valid_files, img_w, img_h, batch_size, input_length, max_text_len)\n",
    "validation_data.build_data()"
   ]
  },
  {
   "cell_type": "code",
   "execution_count": 20,
   "metadata": {},
   "outputs": [
    {
     "data": {
      "text/plain": [
       "'channels_last'"
      ]
     },
     "execution_count": 20,
     "metadata": {},
     "output_type": "execute_result"
    }
   ],
   "source": [
    "from tensorflow.keras import layers\n",
    "from tensorflow.keras import Model\n",
    "from tensorflow.keras import backend as tf_keras_backend\n",
    "\n",
    "tf_keras_backend.set_image_data_format('channels_last')\n",
    "tf_keras_backend.image_data_format()"
   ]
  },
  {
   "cell_type": "code",
   "execution_count": 21,
   "metadata": {},
   "outputs": [
    {
     "name": "stdout",
     "output_type": "stream",
     "text": [
      "Model: \"model\"\n",
      "__________________________________________________________________________________________________\n",
      "Layer (type)                    Output Shape         Param #     Connected to                     \n",
      "==================================================================================================\n",
      "the_input (InputLayer)          [(None, 128, 64, 1)] 0                                            \n",
      "__________________________________________________________________________________________________\n",
      "conv1 (Conv2D)                  (None, 128, 64, 64)  640         the_input[0][0]                  \n",
      "__________________________________________________________________________________________________\n",
      "batch_normalization (BatchNorma (None, 128, 64, 64)  256         conv1[0][0]                      \n",
      "__________________________________________________________________________________________________\n",
      "activation (Activation)         (None, 128, 64, 64)  0           batch_normalization[0][0]        \n",
      "__________________________________________________________________________________________________\n",
      "max1 (MaxPooling2D)             (None, 64, 32, 64)   0           activation[0][0]                 \n",
      "__________________________________________________________________________________________________\n",
      "conv2 (Conv2D)                  (None, 64, 32, 128)  73856       max1[0][0]                       \n",
      "__________________________________________________________________________________________________\n",
      "batch_normalization_1 (BatchNor (None, 64, 32, 128)  512         conv2[0][0]                      \n",
      "__________________________________________________________________________________________________\n",
      "activation_1 (Activation)       (None, 64, 32, 128)  0           batch_normalization_1[0][0]      \n",
      "__________________________________________________________________________________________________\n",
      "max2 (MaxPooling2D)             (None, 32, 16, 128)  0           activation_1[0][0]               \n",
      "__________________________________________________________________________________________________\n",
      "conv3 (Conv2D)                  (None, 32, 16, 256)  295168      max2[0][0]                       \n",
      "__________________________________________________________________________________________________\n",
      "batch_normalization_2 (BatchNor (None, 32, 16, 256)  1024        conv3[0][0]                      \n",
      "__________________________________________________________________________________________________\n",
      "activation_2 (Activation)       (None, 32, 16, 256)  0           batch_normalization_2[0][0]      \n",
      "__________________________________________________________________________________________________\n",
      "conv4 (Conv2D)                  (None, 32, 16, 256)  590080      activation_2[0][0]               \n",
      "__________________________________________________________________________________________________\n",
      "batch_normalization_3 (BatchNor (None, 32, 16, 256)  1024        conv4[0][0]                      \n",
      "__________________________________________________________________________________________________\n",
      "activation_3 (Activation)       (None, 32, 16, 256)  0           batch_normalization_3[0][0]      \n",
      "__________________________________________________________________________________________________\n",
      "max3 (MaxPooling2D)             (None, 32, 8, 256)   0           activation_3[0][0]               \n",
      "__________________________________________________________________________________________________\n",
      "conv5 (Conv2D)                  (None, 32, 8, 512)   1180160     max3[0][0]                       \n",
      "__________________________________________________________________________________________________\n",
      "batch_normalization_4 (BatchNor (None, 32, 8, 512)   2048        conv5[0][0]                      \n",
      "__________________________________________________________________________________________________\n",
      "activation_4 (Activation)       (None, 32, 8, 512)   0           batch_normalization_4[0][0]      \n",
      "__________________________________________________________________________________________________\n",
      "conv6 (Conv2D)                  (None, 32, 8, 512)   2359808     activation_4[0][0]               \n",
      "__________________________________________________________________________________________________\n",
      "batch_normalization_5 (BatchNor (None, 32, 8, 512)   2048        conv6[0][0]                      \n",
      "__________________________________________________________________________________________________\n",
      "activation_5 (Activation)       (None, 32, 8, 512)   0           batch_normalization_5[0][0]      \n",
      "__________________________________________________________________________________________________\n",
      "max4 (MaxPooling2D)             (None, 32, 4, 512)   0           activation_5[0][0]               \n",
      "__________________________________________________________________________________________________\n",
      "con7 (Conv2D)                   (None, 32, 4, 512)   1049088     max4[0][0]                       \n",
      "__________________________________________________________________________________________________\n",
      "batch_normalization_6 (BatchNor (None, 32, 4, 512)   2048        con7[0][0]                       \n",
      "__________________________________________________________________________________________________\n",
      "activation_6 (Activation)       (None, 32, 4, 512)   0           batch_normalization_6[0][0]      \n",
      "__________________________________________________________________________________________________\n",
      "reshape (Reshape)               (None, 32, 2048)     0           activation_6[0][0]               \n",
      "__________________________________________________________________________________________________\n",
      "dense1 (Dense)                  (None, 32, 64)       131136      reshape[0][0]                    \n",
      "__________________________________________________________________________________________________\n",
      "bidirectional (Bidirectional)   (None, 32, 512)      657408      dense1[0][0]                     \n",
      "__________________________________________________________________________________________________\n",
      "bidirectional_1 (Bidirectional) (None, 32, 512)      1574912     bidirectional[0][0]              \n",
      "__________________________________________________________________________________________________\n",
      "batch_normalization_7 (BatchNor (None, 32, 512)      2048        bidirectional_1[0][0]            \n",
      "__________________________________________________________________________________________________\n",
      "dense2 (Dense)                  (None, 32, 80)       41040       batch_normalization_7[0][0]      \n",
      "__________________________________________________________________________________________________\n",
      "softmax (Activation)            (None, 32, 80)       0           dense2[0][0]                     \n",
      "__________________________________________________________________________________________________\n",
      "the_labels (InputLayer)         [(None, 16)]         0                                            \n",
      "__________________________________________________________________________________________________\n",
      "input_length (InputLayer)       [(None, 1)]          0                                            \n",
      "__________________________________________________________________________________________________\n",
      "label_length (InputLayer)       [(None, 1)]          0                                            \n",
      "__________________________________________________________________________________________________\n",
      "ctc (Lambda)                    (None, 1)            0           softmax[0][0]                    \n",
      "                                                                 the_labels[0][0]                 \n",
      "                                                                 input_length[0][0]               \n",
      "                                                                 label_length[0][0]               \n",
      "==================================================================================================\n",
      "Total params: 7,964,304\n",
      "Trainable params: 7,958,800\n",
      "Non-trainable params: 5,504\n",
      "__________________________________________________________________________________________________\n"
     ]
    }
   ],
   "source": [
    "input_data = layers.Input(name='the_input', shape=(128,64,1), dtype='float32')  # (None, 128, 64, 1)\n",
    "\n",
    "# Convolution layer (VGG)\n",
    "iam_layers = layers.Conv2D(64, (3, 3), padding='same', name='conv1', kernel_initializer='he_normal')(input_data)\n",
    "iam_layers = layers.BatchNormalization()(iam_layers)\n",
    "iam_layers = layers.Activation('relu')(iam_layers)\n",
    "iam_layers = layers.MaxPooling2D(pool_size=(2, 2), name='max1')(iam_layers)  # (None,64, 32, 64)\n",
    "\n",
    "iam_layers = layers.Conv2D(128, (3, 3), padding='same', name='conv2', kernel_initializer='he_normal')(iam_layers)\n",
    "iam_layers = layers.BatchNormalization()(iam_layers)\n",
    "iam_layers = layers.Activation('relu')(iam_layers)\n",
    "iam_layers = layers.MaxPooling2D(pool_size=(2, 2), name='max2')(iam_layers)\n",
    "\n",
    "iam_layers = layers.Conv2D(256, (3, 3), padding='same', name='conv3', kernel_initializer='he_normal')(iam_layers)\n",
    "iam_layers = layers.BatchNormalization()(iam_layers)\n",
    "iam_layers = layers.Activation('relu')(iam_layers)\n",
    "iam_layers = layers.Conv2D(256, (3, 3), padding='same', name='conv4', kernel_initializer='he_normal')(iam_layers)\n",
    "iam_layers = layers.BatchNormalization()(iam_layers)\n",
    "iam_layers = layers.Activation('relu')(iam_layers)\n",
    "iam_layers = layers.MaxPooling2D(pool_size=(1, 2), name='max3')(iam_layers)  # (None, 32, 8, 256)\n",
    "\n",
    "iam_layers = layers.Conv2D(512, (3, 3), padding='same', name='conv5', kernel_initializer='he_normal')(iam_layers)\n",
    "iam_layers = layers.BatchNormalization()(iam_layers)\n",
    "iam_layers = layers.Activation('relu')(iam_layers)\n",
    "iam_layers = layers.Conv2D(512, (3, 3), padding='same', name='conv6')(iam_layers)\n",
    "iam_layers = layers.BatchNormalization()(iam_layers)\n",
    "iam_layers = layers.Activation('relu')(iam_layers)\n",
    "iam_layers = layers.MaxPooling2D(pool_size=(1, 2), name='max4')(iam_layers)\n",
    "\n",
    "iam_layers = layers.Conv2D(512, (2, 2), padding='same', kernel_initializer='he_normal', name='con7')(iam_layers)\n",
    "iam_layers = layers.BatchNormalization()(iam_layers)\n",
    "iam_layers = layers.Activation('relu')(iam_layers)\n",
    "\n",
    "# CNN to RNN\n",
    "iam_layers = layers.Reshape(target_shape=((32, 2048)), name='reshape')(iam_layers)\n",
    "iam_layers = layers.Dense(64, activation='relu', kernel_initializer='he_normal', name='dense1')(iam_layers)\n",
    "\n",
    "# RNN layer\n",
    "# layer ten\n",
    "iam_layers = layers.Bidirectional(layers.LSTM(units=256, return_sequences=True))(iam_layers)\n",
    "# layer nine\n",
    "iam_layers = layers.Bidirectional(layers.LSTM(units=256, return_sequences=True))(iam_layers)\n",
    "iam_layers = layers.BatchNormalization()(iam_layers)\n",
    "\n",
    "# transforms RNN output to character activations:\n",
    "iam_layers = layers.Dense(80, kernel_initializer='he_normal', name='dense2')(iam_layers)\n",
    "iam_outputs = layers.Activation('softmax', name='softmax')(iam_layers)\n",
    "\n",
    "labels = layers.Input(name='the_labels', shape=[16], dtype='float32')\n",
    "input_length = layers.Input(name='input_length', shape=[1], dtype='int64')\n",
    "label_length = layers.Input(name='label_length', shape=[1], dtype='int64')\n",
    "\n",
    "\n",
    "def ctc_lambda_func(args):\n",
    "    y_pred, labels, input_length, label_length = args\n",
    "    # the 2 is critical here since the first couple outputs of the RNN\n",
    "    # tend to be garbage:\n",
    "    y_pred = y_pred[:, 2:, :]\n",
    "    return tf_keras_backend.ctc_batch_cost(labels, y_pred, input_length, label_length)\n",
    "\n",
    "\n",
    "# loss function\n",
    "loss_out = layers.Lambda(ctc_lambda_func, output_shape=(1,), name='ctc')([iam_outputs, labels, input_length, label_length])\n",
    "\n",
    "model = Model(inputs=[input_data, labels, input_length, label_length], outputs=loss_out)\n",
    "model.summary()"
   ]
  },
  {
   "cell_type": "code",
   "execution_count": 22,
   "metadata": {},
   "outputs": [],
   "source": [
    "model.compile(loss={'ctc': lambda y_true, y_pred: y_pred}, optimizer = 'adam')"
   ]
  },
  {
   "cell_type": "code",
   "execution_count": 23,
   "metadata": {},
   "outputs": [],
   "source": [
    "import time\n",
    "from tensorflow.keras.callbacks import Callback\n",
    "\n",
    "class EpochTimeHistory(Callback):\n",
    "    \"\"\"\n",
    "    a custom callback to print the time(in minutes, to console) each epoch took during.\n",
    "    \"\"\"\n",
    "    def on_train_begin(self, logs={}):\n",
    "        self.train_epoch_times = []\n",
    "        self.valid_epoch_times = []\n",
    "\n",
    "    def on_epoch_begin(self, epoch, logs={}):\n",
    "        self.epoch_time_start = time.time()\n",
    "\n",
    "    def on_epoch_end(self, epoch, logs={}):\n",
    "        cur_epoch_time = round((time.time() - self.epoch_time_start)/60, 4)\n",
    "        self.train_epoch_times.append(cur_epoch_time)\n",
    "        print(\" ;epoch {0} took {1} minutes.\".format(epoch+1, cur_epoch_time))\n",
    "\n",
    "\n",
    "    def on_test_begin(self, logs={}):\n",
    "        self.test_time_start = time.time()\n",
    "\n",
    "    def on_test_end(self, logs={}):\n",
    "        cur_test_time = round((time.time() - self.test_time_start)/60, 4)\n",
    "        self.valid_epoch_times.append(cur_test_time)\n",
    "        print(\" ;validation took {} minutes.\".format(cur_test_time))"
   ]
  },
  {
   "cell_type": "code",
   "execution_count": 24,
   "metadata": {},
   "outputs": [],
   "source": [
    "from tensorflow.keras.callbacks import ModelCheckpoint, EarlyStopping\n",
    "\n",
    "model_save_cb = ModelCheckpoint(filepath='/content/drive/My Drive/Colab Notebooks/OCR on IAM/data/two-weights-epoch{epoch:02d}-val_loss{val_loss:.3f}.h5',\n",
    "                                verbose=1, save_best_only=False, monitor='val_loss', save_weights_only=False)\n",
    "earlystop = EarlyStopping(monitor='val_loss', min_delta=0, patience=4, verbose=0, mode='min')\n",
    "# reduce_learning_rate_cb = ReduceLROnPlateau(monitor='loss', factor=0.1, patience=2, cooldown=2, min_lr=0.00001, verbose=1)\n",
    "epoch_times = EpochTimeHistory()"
   ]
  },
  {
   "cell_type": "code",
   "execution_count": 25,
   "metadata": {},
   "outputs": [
    {
     "data": {
      "text/plain": [
       "(64, 87291, 4316)"
      ]
     },
     "execution_count": 25,
     "metadata": {},
     "output_type": "execute_result"
    }
   ],
   "source": [
    "batch_size, train_data.n, validation_data.n"
   ]
  },
  {
   "cell_type": "code",
   "execution_count": null,
   "metadata": {},
   "outputs": [
    {
     "name": "stdout",
     "output_type": "stream",
     "text": [
      "Epoch 1/30\n",
      "1364/1363 [==============================] - ETA: -1s - loss: 14.8126 ;validation took 3.3599 minutes.\n",
      "1363/1363 [==============================] - 19320s 14s/step - loss: 14.8085 - val_loss: 5.7076\n",
      "\n",
      "Epoch 00001: saving model to /content/drive/My Drive/Colab Notebooks/OCR on IAM/data\\two-weights-epoch01-val_loss5.708.h5\n",
      " ;epoch 1 took 322.0466 minutes.\n",
      "Epoch 2/30\n",
      "1364/1363 [==============================] - ETA: 0s - loss: 2.9688  ;validation took 2.8636 minutes.\n",
      "1363/1363 [==============================] - 17014s 12s/step - loss: 2.9685 - val_loss: 1.9568\n",
      "\n",
      "Epoch 00002: saving model to /content/drive/My Drive/Colab Notebooks/OCR on IAM/data\\two-weights-epoch02-val_loss1.957.h5\n",
      " ;epoch 2 took 283.6246 minutes.\n",
      "Epoch 3/30\n",
      "1364/1363 [==============================] - ETA: -2s - loss: 1.8049 ;validation took 5.0412 minutes.\n",
      "1363/1363 [==============================] - 46058s 34s/step - loss: 1.8049 - val_loss: 4.8834\n",
      "\n",
      "Epoch 00003: saving model to /content/drive/My Drive/Colab Notebooks/OCR on IAM/data\\two-weights-epoch03-val_loss4.883.h5\n",
      " ;epoch 3 took 767.7106 minutes.\n",
      "Epoch 4/30\n",
      " 834/1363 [=================>............] - ETA: 2:04:40 - loss: 1.3700"
     ]
    }
   ],
   "source": [
    "history_model_3 = model.fit(train_data.next_batch(),\n",
    "                            validation_data=validation_data.next_batch(),\n",
    "                            steps_per_epoch=train_data.n/batch_size,\n",
    "                            validation_steps=validation_data.n // batch_size,\n",
    "                            epochs=30,\n",
    "                            callbacks=[earlystop, model_save_cb, epoch_times])"
   ]
  },
  {
   "cell_type": "code",
   "execution_count": null,
   "metadata": {},
   "outputs": [],
   "source": [
    "model.save(filepath='handwritten-model.h5', overwrite=False, include_optimizer=True)"
   ]
  },
  {
   "cell_type": "code",
   "execution_count": null,
   "metadata": {},
   "outputs": [],
   "source": []
  }
 ],
 "metadata": {
  "kernelspec": {
   "display_name": "Python 3",
   "language": "python",
   "name": "python3"
  },
  "language_info": {
   "codemirror_mode": {
    "name": "ipython",
    "version": 3
   },
   "file_extension": ".py",
   "mimetype": "text/x-python",
   "name": "python",
   "nbconvert_exporter": "python",
   "pygments_lexer": "ipython3",
   "version": "3.8.1"
  }
 },
 "nbformat": 4,
 "nbformat_minor": 2
}
